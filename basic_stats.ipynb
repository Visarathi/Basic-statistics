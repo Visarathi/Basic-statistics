{
 "cells": [
  {
   "cell_type": "markdown",
   "metadata": {},
   "source": [
    "## Basic Statistics"
   ]
  },
  {
   "cell_type": "code",
   "execution_count": 45,
   "metadata": {},
   "outputs": [],
   "source": [
    "import pandas\n",
    "import numpy\n",
    "from collections import Counter"
   ]
  },
  {
   "cell_type": "markdown",
   "metadata": {},
   "source": [
    "<b>Mean:</b> Taking the average of the elements(sum of the elements/no. of the elements)"
   ]
  },
  {
   "cell_type": "code",
   "execution_count": 2,
   "metadata": {},
   "outputs": [],
   "source": [
    "def claculate_mean(values):\n",
    "    A=sum(values)/len(values)\n",
    "    return A"
   ]
  },
  {
   "cell_type": "code",
   "execution_count": 4,
   "metadata": {},
   "outputs": [
    {
     "data": {
      "text/plain": [
       "14.428571428571429"
      ]
     },
     "execution_count": 4,
     "metadata": {},
     "output_type": "execute_result"
    }
   ],
   "source": [
    "x = [2,0,76,6,9,0,8]\n",
    "Mean = claculate_mean(x)\n",
    "Mean"
   ]
  },
  {
   "cell_type": "markdown",
   "metadata": {},
   "source": [
    "<b>Median:</b>The value which is in the middle of the order.\n",
    "     if even, take the average for the middle two numbers.\n",
    "     if odd, take the middle number."
   ]
  },
  {
   "cell_type": "code",
   "execution_count": 21,
   "metadata": {},
   "outputs": [],
   "source": [
    "def calculate_median(values):\n",
    "    sort_val = sorted(values)\n",
    "    mid_index = len(values)//2     #indexing can't be in decimal values\n",
    "    \n",
    "    #odd case\n",
    "    if len(values) % 2 !=0:\n",
    "        Median = sort_val[mid_index]\n",
    "        Median\n",
    "    \n",
    "    #even case\n",
    "    else:\n",
    "        mid_index_1 = mid_index - 1\n",
    "        Med = [sort_val[mid_index_1], sort_val[mid_index]]\n",
    "        Median = claculate_mean(Med)\n",
    "        Median\n",
    "        \n",
    "    return Median\n",
    "        "
   ]
  },
  {
   "cell_type": "code",
   "execution_count": 22,
   "metadata": {},
   "outputs": [
    {
     "data": {
      "text/plain": [
       "5.5"
      ]
     },
     "execution_count": 22,
     "metadata": {},
     "output_type": "execute_result"
    }
   ],
   "source": [
    "x = [1,2,3,4,5,6,6,7,8,7]\n",
    "median = calculate_median(x)\n",
    "median"
   ]
  },
  {
   "cell_type": "markdown",
   "metadata": {},
   "source": [
    "<b>Mode:</b> The value that appears most frequently in the data."
   ]
  },
  {
   "cell_type": "code",
   "execution_count": 30,
   "metadata": {},
   "outputs": [
    {
     "data": {
      "text/plain": [
       "dict_items([(1, 1), (2, 1), (3, 2), (4, 2), (5, 3)])"
      ]
     },
     "execution_count": 30,
     "metadata": {},
     "output_type": "execute_result"
    }
   ],
   "source": [
    "M = [1,2,3,3,4,4,5,5,5]\n",
    "Counter(M).items()"
   ]
  },
  {
   "cell_type": "code",
   "execution_count": 38,
   "metadata": {},
   "outputs": [],
   "source": [
    "def calculate_mode(values):\n",
    "    data_count = Counter(values)\n",
    "    max_freq = max(list(data_count.values()))\n",
    "    \n",
    "    if max_freq == 1:\n",
    "        return \"Mode doesn't exist\"\n",
    "    \n",
    "    mode = [i for i,j in data_count.items() if  j == max_freq ]\n",
    "    return min(mode)\n",
    "    "
   ]
  },
  {
   "cell_type": "code",
   "execution_count": 41,
   "metadata": {},
   "outputs": [
    {
     "data": {
      "text/plain": [
       "4"
      ]
     },
     "execution_count": 41,
     "metadata": {},
     "output_type": "execute_result"
    }
   ],
   "source": [
    "M = [1,2,3,3,4,4,4,5,5,5]\n",
    "Mode = calculate_mode(M)\n",
    "Mode"
   ]
  },
  {
   "cell_type": "markdown",
   "metadata": {},
   "source": [
    "<b>Standard Deviation:</b> To measure the amount of variance or despersion of the set of values"
   ]
  },
  {
   "cell_type": "code",
   "execution_count": 42,
   "metadata": {},
   "outputs": [],
   "source": [
    "def calculate_sd(values):\n",
    "    return numpy.std(values)"
   ]
  },
  {
   "cell_type": "code",
   "execution_count": 43,
   "metadata": {},
   "outputs": [
    {
     "data": {
      "text/plain": [
       "2.6954231805876008"
      ]
     },
     "execution_count": 43,
     "metadata": {},
     "output_type": "execute_result"
    }
   ],
   "source": [
    "s_d = [1,3,4,5,6,7,10]\n",
    "SD = calculate_sd(s_d)\n",
    "SD"
   ]
  }
 ],
 "metadata": {
  "kernelspec": {
   "display_name": "Python 3",
   "language": "python",
   "name": "python3"
  },
  "language_info": {
   "codemirror_mode": {
    "name": "ipython",
    "version": 3
   },
   "file_extension": ".py",
   "mimetype": "text/x-python",
   "name": "python",
   "nbconvert_exporter": "python",
   "pygments_lexer": "ipython3",
   "version": "3.8.5"
  }
 },
 "nbformat": 4,
 "nbformat_minor": 4
}
